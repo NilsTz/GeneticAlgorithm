{
 "cells": [
  {
   "cell_type": "code",
   "execution_count": null,
   "metadata": {},
   "outputs": [],
   "source": [
    "import import_ipynb\n",
    "\n",
    "from keras.optimizers import *\n",
    "from datetime import datetime\n",
    "\n",
    "from Random_Algorithm import*"
   ]
  },
  {
   "cell_type": "markdown",
   "metadata": {},
   "source": [
    "# The model"
   ]
  },
  {
   "cell_type": "code",
   "execution_count": null,
   "metadata": {
    "scrolled": false
   },
   "outputs": [],
   "source": [
    "def score (pop):\n",
    "    for i in range(len(pop)):\n",
    "\n",
    "        print(\"Durchlauf:\",i+1,\"von\",len(pop))\n",
    "        \n",
    "        score =# Your neural net here\n",
    "        \n",
    "        pop[i].loss = score[0]\n",
    "        pop[i].acc  = score[1]*100\n",
    "        pop[i].prec = score[2]*100\n",
    "        pop[i].rec  = score[3]*100\n",
    "        pop[i].f1   = score[4]*100\n",
    "        \n",
    "        pop[i].time = datetime.now()\n",
    "\n",
    "        \n",
    "    return(pop)"
   ]
  },
  {
   "cell_type": "code",
   "execution_count": null,
   "metadata": {},
   "outputs": [],
   "source": [
    "max_pop = 51 # Anzahl der zufällig zusammengestellten HP-Konfigurationen 9Blöcke a 51 Netze insgesamt 459 Netze\n",
    "count_blocks = 9"
   ]
  },
  {
   "cell_type": "code",
   "execution_count": null,
   "metadata": {},
   "outputs": [],
   "source": [
    "for i in range(0,count_blocks):\n",
    "    pop = create_population(max_pop)\n",
    "    filename = str(\"Random_Block_\"+str(i)+\".csv\")\n",
    "    write_to_file_jupyter(pop, filename)"
   ]
  },
  {
   "cell_type": "code",
   "execution_count": null,
   "metadata": {},
   "outputs": [],
   "source": [
    "pop0 = read_from_file(\"Random_Block_0.csv\")\n",
    "scored_pop = score(pop1)\n",
    "write_to_file_excel(scored_pop, \"random_overview_Block0.csv\")"
   ]
  },
  {
   "cell_type": "code",
   "execution_count": null,
   "metadata": {},
   "outputs": [],
   "source": [
    "pop1 = read_from_file(\"Random_Block_1.csv\")\n",
    "scored_pop = score(pop1)\n",
    "write_to_file_excel(scored_pop, \"random_overview_Block1.csv\")"
   ]
  },
  {
   "cell_type": "code",
   "execution_count": null,
   "metadata": {},
   "outputs": [],
   "source": [
    "pop2 = read_from_file(\"Random_Block_2.csv\")\n",
    "scored_pop = score(pop1)\n",
    "write_to_file_excel(scored_pop, \"random_overview_Block2.csv\")"
   ]
  },
  {
   "cell_type": "code",
   "execution_count": null,
   "metadata": {},
   "outputs": [],
   "source": [
    "pop3 = read_from_file(\"Random_Block_3.csv\")\n",
    "scored_pop = score(pop1)\n",
    "write_to_file_excel(scored_pop, \"random_overview_Block3.csv\")"
   ]
  },
  {
   "cell_type": "code",
   "execution_count": null,
   "metadata": {},
   "outputs": [],
   "source": [
    "pop4 = read_from_file(\"Random_Block_4.csv\")\n",
    "scored_pop = score(pop1)\n",
    "write_to_file_excel(scored_pop, \"random_overview_Block4.csv\")"
   ]
  },
  {
   "cell_type": "code",
   "execution_count": null,
   "metadata": {},
   "outputs": [],
   "source": [
    "pop5 = read_from_file(\"Random_Block_5.csv\")\n",
    "scored_pop = score(pop1)\n",
    "write_to_file_excel(scored_pop, \"random_overview_Block5.csv\")"
   ]
  },
  {
   "cell_type": "code",
   "execution_count": null,
   "metadata": {},
   "outputs": [],
   "source": [
    "pop6 = read_from_file(\"Random_Block_6.csv\")\n",
    "scored_pop = score(pop1)\n",
    "write_to_file_excel(scored_pop, \"random_overview_Block6.csv\")"
   ]
  },
  {
   "cell_type": "code",
   "execution_count": null,
   "metadata": {},
   "outputs": [],
   "source": [
    "pop7 = read_from_file(\"Random_Block_7.csv\")\n",
    "scored_pop = score(pop1)\n",
    "write_to_file_excel(scored_pop, \"random_overview_Block7.csv\")"
   ]
  },
  {
   "cell_type": "code",
   "execution_count": null,
   "metadata": {},
   "outputs": [],
   "source": [
    "pop8 = read_from_file(\"Random_Block_8.csv\")\n",
    "scored_pop = score(pop1)\n",
    "write_to_file_excel(scored_pop, \"random_overview_Block8.csv\")"
   ]
  },
  {
   "cell_type": "code",
   "execution_count": null,
   "metadata": {},
   "outputs": [],
   "source": []
  }
 ],
 "metadata": {
  "kernelspec": {
   "display_name": "Python 3",
   "language": "python",
   "name": "python3"
  },
  "language_info": {
   "codemirror_mode": {
    "name": "ipython",
    "version": 3
   },
   "file_extension": ".py",
   "mimetype": "text/x-python",
   "name": "python",
   "nbconvert_exporter": "python",
   "pygments_lexer": "ipython3",
   "version": "3.7.3"
  }
 },
 "nbformat": 4,
 "nbformat_minor": 2
}
