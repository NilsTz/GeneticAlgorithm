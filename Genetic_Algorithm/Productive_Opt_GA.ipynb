{
 "cells": [
  {
   "cell_type": "code",
   "execution_count": null,
   "metadata": {
    "scrolled": false
   },
   "outputs": [],
   "source": [
    "import import_ipynb\n",
    "\n",
    "from keras.optimizers import *\n",
    "from datetime import datetime\n",
    "\n",
    "from Genetic_Algorithm_V3 import*\n",
    "\n"
   ]
  },
  {
   "cell_type": "markdown",
   "metadata": {},
   "source": [
    "# The model"
   ]
  },
  {
   "cell_type": "code",
   "execution_count": null,
   "metadata": {},
   "outputs": [],
   "source": [
    "def score(pop):\n",
    "\n",
    "    for i in range(len(pop)):\n",
    "        print (\"Individuum:\",i+1,\"von\", len(pop))\n",
    "        \n",
    "        score = #Your neural net here \n",
    "        \n",
    "        \n",
    "        pop[i].loss = score[0]\n",
    "        pop[i].acc  = score[1]*100\n",
    "        pop[i].prec = score[2]*100\n",
    "        pop[i].rec  = score[3]*100\n",
    "        pop[i].f1   = score[4]*100\n",
    "                \n",
    "        pop[i].time  = datetime.now()\n",
    "        \n",
    "    return pop"
   ]
  },
  {
   "cell_type": "markdown",
   "metadata": {},
   "source": [
    "# Optimierung"
   ]
  },
  {
   "cell_type": "code",
   "execution_count": null,
   "metadata": {},
   "outputs": [],
   "source": [
    "pop_count = 77 # [77,154,231,308,385,462,539,616] \n",
    "mutation_rate = 0.1\n",
    "max_mutation = 0.1\n",
    "generations = 1\n",
    "softmax = True"
   ]
  },
  {
   "cell_type": "code",
   "execution_count": null,
   "metadata": {},
   "outputs": [],
   "source": [
    "population_overview =[]\n",
    "best_overview = []\n",
    "best_gen = []"
   ]
  },
  {
   "cell_type": "code",
   "execution_count": null,
   "metadata": {},
   "outputs": [],
   "source": [
    "population = create_population(pop_count)\n",
    "best = population[0]\n",
    "write_to_file_jupyter(population,\"generation0.csv\")"
   ]
  },
  {
   "cell_type": "code",
   "execution_count": null,
   "metadata": {},
   "outputs": [],
   "source": [
    "for i in range(0,generations):\n",
    "    \n",
    "    print(\"Generation:\",i+1, \"von:\", generations)\n",
    "     \n",
    "    scored_pop   = write_generation(score(population), i) \n",
    "    \n",
    "    population_overview.extend(scored_pop) \n",
    "    \n",
    "    generation_scored_filename = \"generation_scored\"+str(i)+\".csv\" \n",
    "    write_to_file_excel(population, generation_scored_filename)\n",
    "    \n",
    "    best = (compare_max(scored_pop, best)) \n",
    "    best_overview.append(best)\n",
    "    \n",
    "    fittest_pop  = select_fittest(scored_pop)  \n",
    "    \n",
    "    best_gen.append(fittest_pop[0]) \n",
    "    \n",
    "    child_pop    = breed_new(fittest_pop, pop_count)\n",
    "    population   = check_boundaries(mutate_new(child_pop, max_mutation, mutation_rate))\n",
    "    \n",
    "    \n",
    "    generation_filename = \"generation\"+str(i+1)+\".csv\"\n",
    "    write_to_file_jupyter(population, generation_filename)   "
   ]
  },
  {
   "cell_type": "code",
   "execution_count": null,
   "metadata": {},
   "outputs": [],
   "source": [
    "write_to_file_excel(best_overview, \"best_results.csv\") \n",
    "write_to_file_excel(best_gen, \"best_result_per_gen.csv\") \n",
    "write_to_file_excel(population_overview,\"generations_overview.csv\")"
   ]
  }
 ],
 "metadata": {
  "kernelspec": {
   "display_name": "Python 3",
   "language": "python",
   "name": "python3"
  },
  "language_info": {
   "codemirror_mode": {
    "name": "ipython",
    "version": 3
   },
   "file_extension": ".py",
   "mimetype": "text/x-python",
   "name": "python",
   "nbconvert_exporter": "python",
   "pygments_lexer": "ipython3",
   "version": "3.7.3"
  }
 },
 "nbformat": 4,
 "nbformat_minor": 2
}
